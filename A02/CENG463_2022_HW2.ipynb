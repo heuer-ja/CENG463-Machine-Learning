{
 "cells": [
  {
   "cell_type": "markdown",
   "metadata": {},
   "source": [
    "Student Name: Joel Amarou Heuer\n",
    "\n",
    "Student ID: 202102201"
   ]
  },
  {
   "cell_type": "markdown",
   "metadata": {},
   "source": [
    "# Imports"
   ]
  },
  {
   "cell_type": "code",
   "execution_count": 1,
   "metadata": {},
   "outputs": [],
   "source": [
    "import numpy as np\n",
    "import pandas as pd\n",
    "import random"
   ]
  },
  {
   "cell_type": "markdown",
   "metadata": {},
   "source": [
    "# (Hyper)Parameters"
   ]
  },
  {
   "cell_type": "code",
   "execution_count": 2,
   "metadata": {},
   "outputs": [],
   "source": [
    "# TODO Hyperparameters\n",
    "# input_size = \n",
    "output_size = 10 # -> number of neurons in output-layer (= for each possible rating?)\n",
    "# [hidden_layers_sizes] = \n",
    "# learning_rate = \n",
    "number_of_epochs = 1 # how is every sample used for pass/forward/backward\n",
    "\n",
    "# Parameters\n",
    "train_data_path = \"./data/drugLibTrain_raw.tsv\" # please use relative path like this\n",
    "test_data_path = \"./data/drugLibTest_raw.tsv\" # please use relative path like this"
   ]
  },
  {
   "cell_type": "code",
   "execution_count": null,
   "metadata": {},
   "outputs": [],
   "source": []
  },
  {
   "cell_type": "code",
   "execution_count": null,
   "metadata": {},
   "outputs": [],
   "source": [
    "def train(train_data, train_labels, valid_data, valid_labels):\n",
    "\n",
    "\tfor epoch in range(number_of_epochs):\n",
    "\t\tindex = 0\n",
    "\n",
    "\t\t# Same thing about [hidden_layers] mentioned above is valid here also\n",
    "\t\tfor data, labels in zip(train_data, train_labels):\n",
    "\t\t\tpredictions, [hidden_layers] = forward_pass(data)\n",
    "\t\t\tloss_signals = derivation_of_loss_function(labels, predictions)\n",
    "\t\t\tbackward_pass(data, [hidden_layers], predictions, loss_signals)\n",
    "\t\t\tloss = loss_function(labels, predictions)\n",
    "\n",
    "\t\t\tif index % 2000 == 0: # at each 2000th sample, we run validation set to see our model's improvements\n",
    "\t\t\t\taccuracy, loss = test(valid_data, valid_labels)\n",
    "\t\t\t\tprint(\"Epoch= \"+str(epoch)+\", Coverage= %\"+ str(100*(index/len(train_data))) + \", Accuracy= \"+ str(accuracy) + \", Loss= \" + str(loss))\n",
    "\n",
    "\t\t\tindex += 1\n",
    "\n",
    "\treturn losses"
   ]
  },
  {
   "cell_type": "markdown",
   "metadata": {},
   "source": [
    "# Main"
   ]
  },
  {
   "cell_type": "code",
   "execution_count": 13,
   "metadata": {},
   "outputs": [],
   "source": [
    "# Load Data\n",
    "input_features =  'commentsReview'\n",
    "\n",
    "train_data = pd.read_csv(train_data_path, sep='\\t')\n",
    "test_data = pd.read_csv(test_data_path, sep='\\t')\n",
    "\n",
    "train_x = train_data[input_features]\n",
    "train_y = train_data['rating']\n",
    "test_x = test_data[input_features]\n",
    "test_y = test_data['rating']\n",
    "\n",
    "\n",
    "# ONE-HOT for classes 1-10\n",
    "# creating one-hot vector notation of labels. (Labels are given numeric in the dataset)\n",
    "new_train_y = np.zeros(shape=(len(train_y), output_size))\n",
    "new_test_y = np.zeros(shape=(len(test_y), output_size))\n",
    "\n",
    "# add 1's into one-hot-matrix\n",
    "for i in range(len(train_y)) :    \n",
    "    new_train_y[i][train_y[i]-1] = 1\n",
    "\n",
    "for i in range(len(test_y)):\n",
    "    new_test_y[i][test_y[i]-1] = 1\n",
    "\n",
    "train_y = new_train_y\n",
    "test_y = new_test_y\n",
    "\n",
    "# Split training data into [a] Training (75%) and [b] validation (25%)\n",
    "valid_x = np.asarray(train_x[int(0.75*len(train_x)):-1])\n",
    "valid_y = np.asarray(train_y[int(0.75*len(train_y)):-1])\n",
    "train_x = np.asarray(train_x[0:int(0.75*len(train_x))])\n",
    "train_y = np.asarray(train_y[0:int(0.75*len(train_y))])\n",
    "\n",
    "# TODO\n",
    "#train(train_x, train_y, valid_x, valid_y)\n",
    "#print(\"Test Scores:\")\n",
    "#print(test(test_x, test_y))"
   ]
  },
  {
   "cell_type": "code",
   "execution_count": 12,
   "metadata": {},
   "outputs": [
    {
     "data": {
      "text/plain": [
       "((1, 'a'), (2, 'b'), (3, 'c'))"
      ]
     },
     "execution_count": 12,
     "metadata": {},
     "output_type": "execute_result"
    }
   ],
   "source": []
  }
 ],
 "metadata": {
  "interpreter": {
   "hash": "916dbcbb3f70747c44a77c7bcd40155683ae19c65e1c03b4aa3499c5328201f1"
  },
  "kernelspec": {
   "display_name": "Python 3.8.10 64-bit",
   "language": "python",
   "name": "python3"
  },
  "language_info": {
   "codemirror_mode": {
    "name": "ipython",
    "version": 3
   },
   "file_extension": ".py",
   "mimetype": "text/x-python",
   "name": "python",
   "nbconvert_exporter": "python",
   "pygments_lexer": "ipython3",
   "version": "3.8.10"
  },
  "orig_nbformat": 4
 },
 "nbformat": 4,
 "nbformat_minor": 2
}
