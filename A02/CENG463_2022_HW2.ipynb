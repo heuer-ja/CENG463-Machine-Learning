{
 "cells": [
  {
   "cell_type": "markdown",
   "metadata": {},
   "source": [
    "Student Name: Joel Amarou Heuer\n",
    "\n",
    "Student ID: 202102201"
   ]
  },
  {
   "cell_type": "markdown",
   "metadata": {},
   "source": [
    "# Imports"
   ]
  },
  {
   "cell_type": "code",
   "execution_count": 4,
   "metadata": {},
   "outputs": [
    {
     "name": "stderr",
     "output_type": "stream",
     "text": [
      "[nltk_data] Downloading package punkt to /home/korosu/nltk_data...\n",
      "[nltk_data]   Package punkt is already up-to-date!\n"
     ]
    },
    {
     "data": {
      "text/plain": [
       "True"
      ]
     },
     "execution_count": 4,
     "metadata": {},
     "output_type": "execute_result"
    }
   ],
   "source": [
    "import numpy as np\n",
    "import pandas as pd\n",
    "import random\n",
    "import math     \n",
    "\n",
    "# for tokenization use nltk\n",
    "import nltk\n",
    "nltk.download('punkt')\n"
   ]
  },
  {
   "cell_type": "markdown",
   "metadata": {},
   "source": [
    "# (Hyper)Parameters"
   ]
  },
  {
   "cell_type": "code",
   "execution_count": 70,
   "metadata": {},
   "outputs": [],
   "source": [
    "# TODO Hyperparameters\n",
    "output_size = 1 # -> number of neurons in output-layer (= for each possible rating?)\n",
    "learning_rate = 0.01\n",
    "number_of_epochs = 1 # how is every sample used for pass/forward/backward\n",
    "\n",
    "\n",
    "# Parameters\n",
    "train_data_path = \"./data/drugLibTrain_raw.tsv\" # please use relative path like this\n",
    "test_data_path = \"./data/drugLibTest_raw.tsv\" # please use relative path like this"
   ]
  },
  {
   "cell_type": "markdown",
   "metadata": {},
   "source": [
    "# Main"
   ]
  },
  {
   "cell_type": "code",
   "execution_count": 6,
   "metadata": {},
   "outputs": [],
   "source": [
    "input_features =  'commentsReview'\n",
    "\n",
    "###########################################\n",
    "################ Load Data ################\n",
    "###########################################\n",
    "# load data\n",
    "train_data = pd.read_csv(train_data_path, sep='\\t')\n",
    "test_data = pd.read_csv(test_data_path, sep='\\t')\n",
    "# drop nans\n",
    "train_data.dropna(subset = [input_features], inplace=True)\n",
    "test_data.dropna(subset = [input_features], inplace=True)\n",
    "# lowercase all comments\n",
    "train_data[input_features] = train_data[input_features].str.lower()\n",
    "test_data[input_features] = test_data[input_features].str.lower()"
   ]
  },
  {
   "cell_type": "code",
   "execution_count": 7,
   "metadata": {},
   "outputs": [
    {
     "name": "stdout",
     "output_type": "stream",
     "text": [
      "Number of words 11584\n"
     ]
    }
   ],
   "source": [
    "############################################################\n",
    "################ Create directory for words ################\n",
    "############################################################\n",
    "# merge data\n",
    "df_data =  pd.concat([train_data,test_data], axis=0)\n",
    "# create dictonary\n",
    "dictonary_words = df_data[\"commentsReview\"].apply(nltk.word_tokenize)\n",
    "dictonary_words = dictonary_words.values.tolist()\n",
    "# flat lists\n",
    "dictonary_words = [item for sublist in dictonary_words for item in sublist]\n",
    "# drop duplicates\n",
    "dictonary_words = list(set(dictonary_words))\n",
    "# number of all words\n",
    "dict_size = len(dictonary_words)\n",
    "\n",
    "print(f\"Number of words {dict_size}\")"
   ]
  },
  {
   "cell_type": "code",
   "execution_count": 8,
   "metadata": {},
   "outputs": [],
   "source": [
    "##############################################\n",
    "################ Tokenization ################\n",
    "##############################################\n",
    "train_data_tokenized:pd.DataFrame = train_data[\"commentsReview\"].apply(nltk.word_tokenize)\n",
    "test_data_tokenized:pd.DataFrame = test_data[\"commentsReview\"].apply(nltk.word_tokenize)"
   ]
  },
  {
   "cell_type": "code",
   "execution_count": 9,
   "metadata": {},
   "outputs": [
    {
     "data": {
      "text/html": [
       "<div>\n",
       "<style scoped>\n",
       "    .dataframe tbody tr th:only-of-type {\n",
       "        vertical-align: middle;\n",
       "    }\n",
       "\n",
       "    .dataframe tbody tr th {\n",
       "        vertical-align: top;\n",
       "    }\n",
       "\n",
       "    .dataframe thead th {\n",
       "        text-align: right;\n",
       "    }\n",
       "</style>\n",
       "<table border=\"1\" class=\"dataframe\">\n",
       "  <thead>\n",
       "    <tr style=\"text-align: right;\">\n",
       "      <th></th>\n",
       "      <th>Unnamed: 0</th>\n",
       "      <th>urlDrugName</th>\n",
       "      <th>rating</th>\n",
       "      <th>effectiveness</th>\n",
       "      <th>sideEffects</th>\n",
       "      <th>condition</th>\n",
       "      <th>benefitsReview</th>\n",
       "      <th>sideEffectsReview</th>\n",
       "      <th>commentsReview</th>\n",
       "    </tr>\n",
       "  </thead>\n",
       "  <tbody>\n",
       "    <tr>\n",
       "      <th>2653</th>\n",
       "      <td>2119</td>\n",
       "      <td>renova</td>\n",
       "      <td>7</td>\n",
       "      <td>Considerably Effective</td>\n",
       "      <td>Severe Side Effects</td>\n",
       "      <td>melasma</td>\n",
       "      <td>Faint pigmentation started to disappear after ...</td>\n",
       "      <td>Sever redness and scaling occurred especially ...</td>\n",
       "      <td>[0.0, 0.0, 0.0, 0.0, 0.0, 0.0, 0.0, 0.0, 0.0, ...</td>\n",
       "    </tr>\n",
       "    <tr>\n",
       "      <th>618</th>\n",
       "      <td>3602</td>\n",
       "      <td>retin-a</td>\n",
       "      <td>9</td>\n",
       "      <td>Highly Effective</td>\n",
       "      <td>Moderate Side Effects</td>\n",
       "      <td>acne</td>\n",
       "      <td>My acne has completely dminished...i have the ...</td>\n",
       "      <td>Peeling, dryness, sun sensitivity</td>\n",
       "      <td>[0.0, 0.0, 0.0, 0.0, 0.0, 0.0, 0.0, 0.0, 0.0, ...</td>\n",
       "    </tr>\n",
       "  </tbody>\n",
       "</table>\n",
       "</div>"
      ],
      "text/plain": [
       "      Unnamed: 0 urlDrugName  rating           effectiveness  \\\n",
       "2653        2119      renova       7  Considerably Effective   \n",
       "618         3602     retin-a       9        Highly Effective   \n",
       "\n",
       "                sideEffects condition  \\\n",
       "2653    Severe Side Effects   melasma   \n",
       "618   Moderate Side Effects      acne   \n",
       "\n",
       "                                         benefitsReview  \\\n",
       "2653  Faint pigmentation started to disappear after ...   \n",
       "618   My acne has completely dminished...i have the ...   \n",
       "\n",
       "                                      sideEffectsReview  \\\n",
       "2653  Sever redness and scaling occurred especially ...   \n",
       "618                   Peeling, dryness, sun sensitivity   \n",
       "\n",
       "                                         commentsReview  \n",
       "2653  [0.0, 0.0, 0.0, 0.0, 0.0, 0.0, 0.0, 0.0, 0.0, ...  \n",
       "618   [0.0, 0.0, 0.0, 0.0, 0.0, 0.0, 0.0, 0.0, 0.0, ...  "
      ]
     },
     "execution_count": 9,
     "metadata": {},
     "output_type": "execute_result"
    }
   ],
   "source": [
    "##############################################################\n",
    "################ Word Encoding (Bag of words) ################\n",
    "##############################################################\n",
    "def to_bow(dataset):\n",
    "    '''\n",
    "    @param dataset which should be considered (train or test)\n",
    "    @return new column for dataset with sentence/word-encoded cells\n",
    "\n",
    "    For each cell in column of interest, following is performed:\n",
    "    (1) cell contains sentence\n",
    "    (2) sentence is tokenized --> produces array of words/tokens\n",
    "    (3) create array A with len(dict_size) \n",
    "    (4) for each token count occurance \n",
    "    (5) A[index of token t in dict] = occurance of t\n",
    "    '''\n",
    "    new_col = []\n",
    "\n",
    "    # for each row\n",
    "    for _, row in dataset.iterrows():\n",
    "        tokenized = nltk.word_tokenize(row[input_features])\n",
    "        array = np.zeros(shape=dict_size)\n",
    "\n",
    "        # for each word in a setence\n",
    "        for word in tokenized:\n",
    "            i_hot = dictonary_words.index(word)\n",
    "            array[i_hot] = array[i_hot] + 1\n",
    "        new_col.append(array)\n",
    "    \n",
    "    return new_col\n",
    "\n",
    "\n",
    "test_data[input_features] =  to_bow(test_data)\n",
    "train_data[input_features] =  to_bow(train_data)\n",
    "train_data.sample(2)"
   ]
  },
  {
   "cell_type": "code",
   "execution_count": 74,
   "metadata": {},
   "outputs": [
    {
     "name": "stdout",
     "output_type": "stream",
     "text": [
      "0/2324\n"
     ]
    },
    {
     "name": "stderr",
     "output_type": "stream",
     "text": [
      "/tmp/ipykernel_10223/3682247787.py:12: RuntimeWarning: overflow encountered in exp\n",
      "  return 1/(1 + np.exp(-z))\n"
     ]
    },
    {
     "name": "stdout",
     "output_type": "stream",
     "text": [
      "400/2324\n",
      "800/2324\n",
      "1200/2324\n",
      "1600/2324\n",
      "2000/2324\n"
     ]
    }
   ],
   "source": [
    "#################################################\n",
    "################ Create datasets ################\n",
    "#################################################\n",
    "# split into train & test    and    feature & y columns\n",
    "train_x = train_data[input_features]\n",
    "train_y = train_data['rating']\n",
    "test_x = test_data[input_features]\n",
    "test_y = test_data['rating']\n",
    "\n",
    "\n",
    "##################################################################\n",
    "################ split into validation & training ################\n",
    "##################################################################\n",
    "# Split training data into [a] Training (75%) and [b] validation (25%)\n",
    "valid_x = np.asarray(train_x[int(0.75*len(train_x)):-1])\n",
    "valid_y = np.asarray(train_y[int(0.75*len(train_y)):-1])\n",
    "train_x = np.asarray(train_x[0:int(0.75*len(train_x))])\n",
    "train_y = np.asarray(train_y[0:int(0.75*len(train_y))])\n",
    "\n",
    "\n",
    "'''WIP'''\n",
    "# Hyperparamater\n",
    "num_neurons_in_h1 = 20\n",
    "num_neurons_in_h2 = 10\n",
    "\n",
    "w_b = {\n",
    "    # Input-Layer -> H1\n",
    "    \"L0_w\" : np.random.randn(num_neurons_in_h1, dict_size), \n",
    "    \"L0_b\": np.ones((num_neurons_in_h1, 1)) * 0.01,\n",
    "\n",
    "    # H1 -> H2\n",
    "    \"L1_w\" : np.random.randn(num_neurons_in_h2, num_neurons_in_h1), # WIP\n",
    "    \"L1_b\": np.ones((num_neurons_in_h2, 1)) * 0.01,\n",
    "\n",
    "    # H2 -> Output-Layer\n",
    "    \"L2_w\" : np.random.randn(output_size, num_neurons_in_h2), # WIP\n",
    "    \"L2_b\": np.ones((output_size, 1)) * 0.01,\n",
    "}\n",
    "\n",
    "\n",
    "#######################################\n",
    "################ train ################\n",
    "#######################################\n",
    "# TODO\n",
    "losses= train(train_x, train_y, valid_x, valid_y)\n",
    "\n",
    "######################################\n",
    "################ test ################\n",
    "######################################\n",
    "# TODO \n",
    "#print(\"Test Scores:\")\n",
    "#print(test(test_x, test_y))"
   ]
  },
  {
   "cell_type": "code",
   "execution_count": 75,
   "metadata": {},
   "outputs": [
    {
     "data": {
      "text/plain": [
       "[<matplotlib.lines.Line2D at 0x7fdc0ca25d00>]"
      ]
     },
     "execution_count": 75,
     "metadata": {},
     "output_type": "execute_result"
    },
    {
     "data": {
      "image/png": "[encoded data removed]",
      "text/plain": [
       "<Figure size 432x288 with 1 Axes>"
      ]
     },
     "metadata": {
      "needs_background": "light"
     },
     "output_type": "display_data"
    }
   ],
   "source": [
    "import matplotlib.pyplot as plt\n",
    "\n",
    "x = range(0,len(losses))\n",
    "y = losses\n",
    "plt.plot(x,y)"
   ]
  },
  {
   "cell_type": "code",
   "execution_count": 73,
   "metadata": {},
   "outputs": [],
   "source": [
    "\n",
    "def derivation_of_loss_function(y_actual, y_pred):\n",
    "\t'''\n",
    "\tcalculate squared error\n",
    "\t'''\n",
    "\treturn (y_actual-y_pred)**2\n",
    "\n",
    "\n",
    "def activation_function(z):\n",
    "\t'''\n",
    "\tsigmoid-function is used as activation function for hidden-layers\n",
    "\t'''\n",
    "\treturn 1/(1 + np.exp(-z))\n",
    "\n",
    "def reLU(z):\n",
    "    '''\n",
    "\treLU is used as activation for output-layer\n",
    "\t'''\n",
    "    return np.maximum(0.0, z)\n",
    "\n",
    "def forward_pass(data):\n",
    "\t# Input --> Hidden-1\n",
    "\tz0 = np.dot(data, w_b['L0_w'].T) + w_b['L0_b'].T\n",
    "\ta0 = activation_function(z0)\n",
    "\n",
    "\t# Hidden-1 --> Hidden-2\n",
    "\tz1 = np.dot(a0, w_b['L1_w'].T) + w_b['L1_b'].T\n",
    "\ta1 = activation_function(z1)\n",
    "\n",
    "\n",
    "\t# LayerHidden2 --> LayerOutput\n",
    "\tz2 = np.dot(a1, w_b['L2_w'].T) + w_b['L2_b'].T\n",
    "\ty_pred = reLU(z2)\n",
    "\n",
    "\tresults={\n",
    "\t\t\"a0\": a0,\n",
    "\t\t\"a1\": a1,\n",
    "\t\t\"y_pred\": y_pred[0][0],\n",
    "\t}\n",
    "\treturn results\n",
    "\n",
    "###########################################################\n",
    "\n",
    "def derivation_of_loss_function(y_actual, y_pred):\n",
    "\t'''calculate squared error'''\n",
    "\treturn (y_actual-y_pred)**2\n",
    "\n",
    "\n",
    "def backward_pass(input_data, forward_results, loss):\n",
    "\t'''calculate error and update weights'''\n",
    "\t\n",
    "\tdelta_output = loss\n",
    "\tw_b['L2_w'] -= learning_rate * np.dot(delta_output.T, forward_results['a1']) \n",
    "\tw_b['L2_b'] -= learning_rate * np.sum(delta_output, keepdims=True)\n",
    "\n",
    "\tdelta_z2 = np.dot(delta_output, w_b['L2_w'])\n",
    "\tdelta_a1 = delta_z2 * derivation_of_activation_function(forward_results['a1'])\n",
    "\tw_b['L1_w'] -= learning_rate * np.dot(delta_a1.T, forward_results['a0']) \n",
    "\tw_b['L1_b'] -= learning_rate * np.sum(delta_a1, keepdims=True)\n",
    "\n",
    "\tdelta_z1 = np.dot(delta_a1, w_b['L1_w'])\n",
    "\tdelta_a0 = delta_z1 * derivation_of_activation_function(forward_results['a0'])\n",
    "\n",
    "\n",
    "\tw_b['L0_w'] -= learning_rate * np.dot(delta_a0.T, np.array([input_data]))\n",
    "\tw_b['L1_b'] -= learning_rate * np.sum(delta_a0, keepdims=True)\n",
    "\tpass\n",
    "\n",
    "\n",
    "def derivation_of_activation_function(x):\n",
    "\t'''derivation of sigmoid'''\n",
    "\treturn activation_function(x) * (1 - activation_function(x))\n",
    "\n",
    "def loss_function(y_actual, y_pred):\n",
    "\t''' squared error i guess ''' \n",
    "\treturn (y_actual-y_pred)**2\n",
    "\n",
    "\n",
    "\n",
    "def train(train_data, train_labels, valid_data, valid_labels):\n",
    "\tlosses =[]\n",
    "\tfor epoch in range(number_of_epochs):\n",
    "\t\tindex = 0\n",
    "\n",
    "\t\t# Same thing about [hidden_layers] mentioned above is valid here also\n",
    "\t\tfor encoded_sentence, y_rating in zip(train_data, train_labels):\n",
    "\t\t\tforward_results = forward_pass(encoded_sentence)\n",
    "\t\t\tderivation = derivation_of_loss_function(y_rating, forward_results[\"y_pred\"])\n",
    "\t\t\tbackward_pass(encoded_sentence , forward_results, derivation)\n",
    "\t\t\tloss = loss_function(y_rating, forward_results[\"y_pred\"])\n",
    "\t\t\tlosses.append(loss)\n",
    "\t\t\t\n",
    "\t\t\tif index % 400 == 0: # at each 400th sample, we run validation set to see our model's improvements\n",
    "\t\t\t\tprint(f\"{index}/{len(train_data)}\")\t\t\t\t\n",
    "# \t\t\t\taccuracy, loss = test(valid_data, valid_labels)\n",
    "#\t\t\t\tprint(\"Epoch= \"+str(epoch)+\", Coverage= %\"+ str(100*(index/len(train_data))) + \", Accuracy= \"+ str(accuracy) + \", Loss= \" + str(loss))\n",
    "#\n",
    "\t\t\tindex += 1\n",
    "#\n",
    "\treturn losses"
   ]
  },
  {
   "cell_type": "code",
   "execution_count": null,
   "metadata": {},
   "outputs": [],
   "source": []
  }
 ],
 "metadata": {
  "interpreter": {
   "hash": "f81ca3d73f16c3fc9f14852cf151c9505b747a4fab6a8a5fe026d3697dfd654b"
  },
  "kernelspec": {
   "display_name": "Python 3.9.5 ('study-lab')",
   "language": "python",
   "name": "python3"
  },
  "language_info": {
   "codemirror_mode": {
    "name": "ipython",
    "version": 3
   },
   "file_extension": ".py",
   "mimetype": "text/x-python",
   "name": "python",
   "nbconvert_exporter": "python",
   "pygments_lexer": "ipython3",
   "version": "3.9.5"
  },
  "orig_nbformat": 4
 },
 "nbformat": 4,
 "nbformat_minor": 2
}
