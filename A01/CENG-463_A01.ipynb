{
 "cells": [
  {
   "cell_type": "markdown",
   "id": "556f7c97",
   "metadata": {},
   "source": [
    "## Preparation"
   ]
  },
  {
   "cell_type": "markdown",
   "id": "21b3d431",
   "metadata": {},
   "source": [
    "### Preparation > Imports"
   ]
  },
  {
   "cell_type": "code",
   "execution_count": 145,
   "id": "d2355a91",
   "metadata": {},
   "outputs": [],
   "source": [
    "''' IMPORTS '''\n",
    "import numpy as np\n",
    "import pandas as pd\n",
    "import matplotlib as plot\n",
    "import math \n",
    "\n",
    "from enum import Enum    "
   ]
  },
  {
   "cell_type": "markdown",
   "id": "0515ed21",
   "metadata": {},
   "source": [
    "### Preparation > Classes"
   ]
  },
  {
   "cell_type": "code",
   "execution_count": 146,
   "id": "d9418e5d",
   "metadata": {},
   "outputs": [],
   "source": [
    "'''CLASSES '''\n",
    "class Cols(Enum):\n",
    "        StatusOfExistingCheckingAccount = 0,\n",
    "        DurationInMonth = 1, \n",
    "        CreditHistory = 2, \n",
    "        Purpose = 3, \n",
    "        CreditAmount = 4 , \n",
    "        SavingsAccountBonds =5,\n",
    "        PresentEmploymentSince =6 ,\n",
    "        InstallmentRateInPercentageOfDisposableIncome =7 ,\n",
    "        PersonalStatusAndSex = 8,\n",
    "        OtherDebtorsOrGuarantors =9 ,\n",
    "        PresentResidenceSince =10 ,\n",
    "        Property =11 ,\n",
    "        AgeInYears = 12,\n",
    "        OtherInstallmentPlans =13 ,\n",
    "        Housing = 14,\n",
    "        NumberOfExistingCreditsAtThisBank =15 ,\n",
    "        Job = 16,\n",
    "        NumberOfPeopleBeingLiableToProvideMaintenanceFor =17 ,\n",
    "        Telephone = 18,\n",
    "        ForeignWorker =19 ,\n",
    "        ClassOutcome = 20\n",
    "        \n",
    "class Outcomes(Enum):\n",
    "        Good = 1,\n",
    "        Bad = 2"
   ]
  },
  {
   "cell_type": "markdown",
   "id": "7d0068df",
   "metadata": {},
   "source": [
    "### Preparation > Constances"
   ]
  },
  {
   "cell_type": "code",
   "execution_count": 147,
   "id": "bf444f57",
   "metadata": {},
   "outputs": [],
   "source": [
    "'''CONSTANCES'''\n",
    "# dict of all column names\n",
    "COLS = {\n",
    "        Cols.StatusOfExistingCheckingAccount : \"Status of existing checking account\" ,\n",
    "        Cols.DurationInMonth:\"Duration in month\" , \n",
    "        Cols.CreditHistory: \"Credit history\", \n",
    "        Cols.Purpose:\"Purpose\" , \n",
    "        Cols.CreditAmount:  \"Credit amount\", \n",
    "        Cols.SavingsAccountBonds: \"Savings account/bonds\" ,\n",
    "        Cols.PresentEmploymentSince:\"Present employment since\" ,\n",
    "        Cols.InstallmentRateInPercentageOfDisposableIncome: \"Installment rate in percentage of disposable income\",\n",
    "        Cols.PersonalStatusAndSex: \"Personal status and sex\",\n",
    "        Cols.OtherDebtorsOrGuarantors:\"Other debtors / guarantors\", \n",
    "        Cols.PresentResidenceSince: \"Present residence since\",\n",
    "        Cols.Property: \"Property\", \n",
    "        Cols.AgeInYears: \"Age in years\",\n",
    "        Cols.OtherInstallmentPlans:\"Other installment plans\", \n",
    "        Cols.Housing: \"Housing\", \n",
    "        Cols.NumberOfExistingCreditsAtThisBank:\"Number of existing credits at this bank\",\n",
    "        Cols.Job: \"Job\",\n",
    "        Cols.NumberOfPeopleBeingLiableToProvideMaintenanceFor:\"Number of people being liable to provide maintenance for\", \n",
    "        Cols.Telephone: \"Telephone\",\n",
    "        Cols.ForeignWorker:\"Foreign worker\",\n",
    "        Cols.ClassOutcome: \"Class/Outcome\"\n",
    "}\n",
    "\n",
    "# model parameter\n",
    "PERC_TRAIN = 0.67\n",
    "PERC_TEST = 1-PERC_TRAIN\n",
    "ITERATIONS = 500\n"
   ]
  },
  {
   "cell_type": "markdown",
   "id": "ebca725e",
   "metadata": {},
   "source": [
    "### Preparation > Functions"
   ]
  },
  {
   "cell_type": "code",
   "execution_count": 168,
   "id": "b0506097",
   "metadata": {},
   "outputs": [],
   "source": [
    "'''FUNCTIONS'''\n",
    "def plot_gaussian():\n",
    "    # Create graph for class 1\n",
    "    print(\"plot_gaussian\")\n",
    "    # Create graph for class 2\n",
    "\n",
    "    \n",
    "    \n",
    "# WIP    \n",
    "# to calculate un-normalized posteriors and do classification with respect to g1 and g2results\n",
    "def do_classification(df_test, prior_good, muv_good, cov_good, prior_bad, muv_bad, cov_bad):\n",
    "\n",
    "    decision_list = []  # to store classification results to calculate accuracy later.\n",
    "    for x in df_test:\n",
    "        pred_good = discriminant_func(x=x, prior=prior_good, mus=muv_good, cov=cov_good)\n",
    "        pred_bad = discriminant_func(x, prior_bad, muv_bad, cov_bad)\n",
    "\n",
    "        print(f'{pred_good} and {pred_bad}')\n",
    "        \n",
    "    return decision_list\n",
    "\n",
    "\n",
    "# WIP\n",
    "def discriminant_func(x, prior, mus, cov):\n",
    "    vari = math.sqrt(cov)\n",
    "    res = 0\n",
    "    for i in mus:\n",
    "        res = res + (-(math.log(2*np.pi)/2) - math.log(vari) - ((x-mus[i])**2)/(2*cov) + np.log(prior))\n",
    "\n",
    "# to find maximum of the discriminant function results\n",
    "def find_max_likelihood(g1, g2):\n",
    "    likelihood_list = [g1, g2]\n",
    "    return max(likelihood_list)"
   ]
  },
  {
   "cell_type": "markdown",
   "id": "023fbae6",
   "metadata": {},
   "source": [
    "## Model"
   ]
  },
  {
   "cell_type": "markdown",
   "id": "2e770204",
   "metadata": {},
   "source": [
    "### Model > Load Data"
   ]
  },
  {
   "cell_type": "code",
   "execution_count": 161,
   "id": "85f16fad",
   "metadata": {},
   "outputs": [
    {
     "data": {
      "text/html": [
       "<div>\n",
       "<style scoped>\n",
       "    .dataframe tbody tr th:only-of-type {\n",
       "        vertical-align: middle;\n",
       "    }\n",
       "\n",
       "    .dataframe tbody tr th {\n",
       "        vertical-align: top;\n",
       "    }\n",
       "\n",
       "    .dataframe thead th {\n",
       "        text-align: right;\n",
       "    }\n",
       "</style>\n",
       "<table border=\"1\" class=\"dataframe\">\n",
       "  <thead>\n",
       "    <tr style=\"text-align: right;\">\n",
       "      <th></th>\n",
       "      <th>Status of existing checking account</th>\n",
       "      <th>Duration in month</th>\n",
       "      <th>Credit history</th>\n",
       "      <th>Purpose</th>\n",
       "      <th>Credit amount</th>\n",
       "      <th>Savings account/bonds</th>\n",
       "      <th>Present employment since</th>\n",
       "      <th>Installment rate in percentage of disposable income</th>\n",
       "      <th>Personal status and sex</th>\n",
       "      <th>Other debtors / guarantors</th>\n",
       "      <th>...</th>\n",
       "      <th>Property</th>\n",
       "      <th>Age in years</th>\n",
       "      <th>Other installment plans</th>\n",
       "      <th>Housing</th>\n",
       "      <th>Number of existing credits at this bank</th>\n",
       "      <th>Job</th>\n",
       "      <th>Number of people being liable to provide maintenance for</th>\n",
       "      <th>Telephone</th>\n",
       "      <th>Foreign worker</th>\n",
       "      <th>Class/Outcome</th>\n",
       "    </tr>\n",
       "  </thead>\n",
       "  <tbody>\n",
       "    <tr>\n",
       "      <th>0</th>\n",
       "      <td>A11</td>\n",
       "      <td>6</td>\n",
       "      <td>A34</td>\n",
       "      <td>A43</td>\n",
       "      <td>1169</td>\n",
       "      <td>A65</td>\n",
       "      <td>A75</td>\n",
       "      <td>4</td>\n",
       "      <td>A93</td>\n",
       "      <td>A101</td>\n",
       "      <td>...</td>\n",
       "      <td>A121</td>\n",
       "      <td>67</td>\n",
       "      <td>A143</td>\n",
       "      <td>A152</td>\n",
       "      <td>2</td>\n",
       "      <td>A173</td>\n",
       "      <td>1</td>\n",
       "      <td>A192</td>\n",
       "      <td>A201</td>\n",
       "      <td>1</td>\n",
       "    </tr>\n",
       "  </tbody>\n",
       "</table>\n",
       "<p>1 rows × 21 columns</p>\n",
       "</div>"
      ],
      "text/plain": [
       "  Status of existing checking account  Duration in month Credit history  \\\n",
       "0                                 A11                  6            A34   \n",
       "\n",
       "  Purpose  Credit amount Savings account/bonds Present employment since  \\\n",
       "0     A43           1169                   A65                      A75   \n",
       "\n",
       "   Installment rate in percentage of disposable income  \\\n",
       "0                                                  4     \n",
       "\n",
       "  Personal status and sex Other debtors / guarantors  ...  Property  \\\n",
       "0                     A93                       A101  ...      A121   \n",
       "\n",
       "  Age in years  Other installment plans Housing  \\\n",
       "0           67                     A143    A152   \n",
       "\n",
       "  Number of existing credits at this bank   Job  \\\n",
       "0                                       2  A173   \n",
       "\n",
       "  Number of people being liable to provide maintenance for  Telephone  \\\n",
       "0                                                  1             A192   \n",
       "\n",
       "  Foreign worker Class/Outcome  \n",
       "0           A201             1  \n",
       "\n",
       "[1 rows x 21 columns]"
      ]
     },
     "execution_count": 161,
     "metadata": {},
     "output_type": "execute_result"
    }
   ],
   "source": [
    "df = pd.read_csv(\n",
    "    \"german.data\", \n",
    "    sep=\" \", \n",
    "    names=[\n",
    "        COLS[Cols.StatusOfExistingCheckingAccount],\n",
    "        COLS[Cols.DurationInMonth],\n",
    "        COLS[Cols.CreditHistory],\n",
    "        COLS[Cols.Purpose],\n",
    "        COLS[Cols.CreditAmount],\n",
    "        COLS[Cols.SavingsAccountBonds],\n",
    "        COLS[Cols.PresentEmploymentSince],\n",
    "        COLS[Cols.InstallmentRateInPercentageOfDisposableIncome],\n",
    "        COLS[Cols.PersonalStatusAndSex],\n",
    "        COLS[Cols.OtherDebtorsOrGuarantors],\n",
    "        COLS[Cols.PresentResidenceSince],\n",
    "        COLS[Cols.Property],\n",
    "        COLS[Cols.AgeInYears],\n",
    "        COLS[Cols.OtherInstallmentPlans],\n",
    "        COLS[Cols.Housing],\n",
    "        COLS[Cols.NumberOfExistingCreditsAtThisBank],\n",
    "        COLS[Cols.Job],\n",
    "        COLS[Cols.NumberOfPeopleBeingLiableToProvideMaintenanceFor],\n",
    "        COLS[Cols.Telephone],\n",
    "        COLS[Cols.ForeignWorker],\n",
    "        COLS[Cols.ClassOutcome],\n",
    "    ])\n",
    "df.head(1)"
   ]
  },
  {
   "cell_type": "markdown",
   "id": "a48d987e",
   "metadata": {},
   "source": [
    "## Model > Training (run  500x)"
   ]
  },
  {
   "cell_type": "code",
   "execution_count": 167,
   "id": "372a4aed",
   "metadata": {},
   "outputs": [
    {
     "name": "stdout",
     "output_type": "stream",
     "text": [
      "len(train)=646 and len(test)=354\n"
     ]
    },
    {
     "ename": "ValueError",
     "evalue": "math domain error",
     "output_type": "error",
     "traceback": [
      "\u001b[0;31m---------------------------------------------------------------------------\u001b[0m",
      "\u001b[0;31mValueError\u001b[0m                                Traceback (most recent call last)",
      "\u001b[0;32m/tmp/ipykernel_8895/2741707551.py\u001b[0m in \u001b[0;36m<module>\u001b[0;34m\u001b[0m\n\u001b[1;32m     28\u001b[0m \u001b[0;34m\u001b[0m\u001b[0m\n\u001b[1;32m     29\u001b[0m     \u001b[0;31m# classification_result is an array that stores the result of classification\u001b[0m\u001b[0;34m\u001b[0m\u001b[0;34m\u001b[0m\u001b[0;34m\u001b[0m\u001b[0m\n\u001b[0;32m---> 30\u001b[0;31m     classification_result = do_classification(\n\u001b[0m\u001b[1;32m     31\u001b[0m         \u001b[0mdf_test\u001b[0m\u001b[0;34m=\u001b[0m\u001b[0mdf_test\u001b[0m\u001b[0;34m,\u001b[0m\u001b[0;34m\u001b[0m\u001b[0;34m\u001b[0m\u001b[0m\n\u001b[1;32m     32\u001b[0m         \u001b[0mprior_good\u001b[0m\u001b[0;34m=\u001b[0m\u001b[0mprior_good\u001b[0m\u001b[0;34m,\u001b[0m \u001b[0mmuv_good\u001b[0m\u001b[0;34m=\u001b[0m\u001b[0mmuv_good\u001b[0m\u001b[0;34m,\u001b[0m \u001b[0mcov_good\u001b[0m\u001b[0;34m=\u001b[0m\u001b[0mcov_good\u001b[0m\u001b[0;34m,\u001b[0m\u001b[0;34m\u001b[0m\u001b[0;34m\u001b[0m\u001b[0m\n",
      "\u001b[0;32m/tmp/ipykernel_8895/4228202678.py\u001b[0m in \u001b[0;36mdo_classification\u001b[0;34m(df_test, prior_good, muv_good, cov_good, prior_bad, muv_bad, cov_bad)\u001b[0m\n\u001b[1;32m     10\u001b[0m     \u001b[0mdecision_list\u001b[0m \u001b[0;34m=\u001b[0m \u001b[0;34m[\u001b[0m\u001b[0;34m]\u001b[0m  \u001b[0;31m# to store classification results to calculate accuracy later.\u001b[0m\u001b[0;34m\u001b[0m\u001b[0;34m\u001b[0m\u001b[0m\n\u001b[1;32m     11\u001b[0m     \u001b[0;32mfor\u001b[0m \u001b[0mx\u001b[0m \u001b[0;32min\u001b[0m \u001b[0mdf_test\u001b[0m\u001b[0;34m:\u001b[0m\u001b[0;34m\u001b[0m\u001b[0;34m\u001b[0m\u001b[0m\n\u001b[0;32m---> 12\u001b[0;31m         \u001b[0mpred_good\u001b[0m \u001b[0;34m=\u001b[0m \u001b[0mdiscriminant_func\u001b[0m\u001b[0;34m(\u001b[0m\u001b[0mx\u001b[0m\u001b[0;34m,\u001b[0m \u001b[0mprior_good\u001b[0m\u001b[0;34m,\u001b[0m \u001b[0mmuv_good\u001b[0m\u001b[0;34m,\u001b[0m \u001b[0mcov_good\u001b[0m\u001b[0;34m)\u001b[0m\u001b[0;34m\u001b[0m\u001b[0;34m\u001b[0m\u001b[0m\n\u001b[0m\u001b[1;32m     13\u001b[0m         \u001b[0mpred_bad\u001b[0m \u001b[0;34m=\u001b[0m \u001b[0mdiscriminant_func\u001b[0m\u001b[0;34m(\u001b[0m\u001b[0mx\u001b[0m\u001b[0;34m,\u001b[0m \u001b[0mprior_bad\u001b[0m\u001b[0;34m,\u001b[0m \u001b[0mmuv_bad\u001b[0m\u001b[0;34m,\u001b[0m \u001b[0mcov_bad\u001b[0m\u001b[0;34m)\u001b[0m\u001b[0;34m\u001b[0m\u001b[0;34m\u001b[0m\u001b[0m\n\u001b[1;32m     14\u001b[0m \u001b[0;34m\u001b[0m\u001b[0m\n",
      "\u001b[0;32m/tmp/ipykernel_8895/4228202678.py\u001b[0m in \u001b[0;36mdiscriminant_func\u001b[0;34m(x, prior, mus, cov)\u001b[0m\n\u001b[1;32m     19\u001b[0m \u001b[0;34m\u001b[0m\u001b[0m\n\u001b[1;32m     20\u001b[0m \u001b[0;32mdef\u001b[0m \u001b[0mdiscriminant_func\u001b[0m\u001b[0;34m(\u001b[0m\u001b[0mx\u001b[0m\u001b[0;34m,\u001b[0m \u001b[0mprior\u001b[0m\u001b[0;34m,\u001b[0m \u001b[0mmus\u001b[0m\u001b[0;34m,\u001b[0m \u001b[0mcov\u001b[0m\u001b[0;34m)\u001b[0m\u001b[0;34m:\u001b[0m\u001b[0;34m\u001b[0m\u001b[0;34m\u001b[0m\u001b[0m\n\u001b[0;32m---> 21\u001b[0;31m     \u001b[0mvari\u001b[0m \u001b[0;34m=\u001b[0m \u001b[0mmath\u001b[0m\u001b[0;34m.\u001b[0m\u001b[0msqrt\u001b[0m\u001b[0;34m(\u001b[0m\u001b[0mcov\u001b[0m\u001b[0;34m)\u001b[0m\u001b[0;34m\u001b[0m\u001b[0;34m\u001b[0m\u001b[0m\n\u001b[0m\u001b[1;32m     22\u001b[0m     \u001b[0mres\u001b[0m \u001b[0;34m=\u001b[0m \u001b[0;36m0\u001b[0m\u001b[0;34m\u001b[0m\u001b[0;34m\u001b[0m\u001b[0m\n\u001b[1;32m     23\u001b[0m     \u001b[0;32mfor\u001b[0m \u001b[0mi\u001b[0m \u001b[0;32min\u001b[0m \u001b[0mmus\u001b[0m\u001b[0;34m:\u001b[0m\u001b[0;34m\u001b[0m\u001b[0;34m\u001b[0m\u001b[0m\n",
      "\u001b[0;31mValueError\u001b[0m: math domain error"
     ]
    }
   ],
   "source": [
    "accuracy = 0  # total accuracy\n",
    "attr1 = COLS[Cols.AgeInYears]\n",
    "attr2 = COLS[Cols.CreditAmount]\n",
    "\n",
    "# program will run for 500 times to find average accuracy\n",
    "accuracies=[] # to store individual accuracies\n",
    "for i in range(0, 1):\n",
    "    # split data train & test\n",
    "    msk = np.random.rand(len(df)) < PERC_TRAIN\n",
    "    df_train = df[msk]\n",
    "    df_test = df[~msk]\n",
    "    print(f'len(train)={len(train)} and len(test)={len(test)}')\n",
    "    \n",
    "    # separate in class 1 & 2\n",
    "    df_good = df_train.loc[df_train[COLS[Cols.ClassOutcome]] == 1]    \n",
    "    df_bad  = df_train.loc[df_train[COLS[Cols.ClassOutcome]] == 2]\n",
    "    \n",
    "    prior_good = len(df_good)/(len(df_good)+len(df_bad)) \n",
    "    prior_bad = len(df_bad)/(len(df_good)+len(df_bad)) \n",
    "    \n",
    "    # calculate MUs and COVs(MLE parameters) of each class\n",
    "    muv_good = [df_good[attr1].mean(), df_good[attr2].mean()]\n",
    "    cov_good = df_good[attr1].cov(df_good[attr2])\n",
    "    \n",
    "    muv_bad = [df_bad[attr1].mean(), df_bad[attr2].mean()]\n",
    "    cov_bad = df_bad[attr1].cov(df_bad[attr2])\n",
    "\n",
    "    \n",
    "    # classification_result is an array that stores the result of classification\n",
    "    classification_result = do_classification(\n",
    "        df_test=df_test, \n",
    "        prior_good=prior_good, muv_good=muv_good, cov_good=cov_good, \n",
    "        prior_bad=prior_bad, muv_bad=muv_bad, cov_bad=cov_bad)\n",
    "    "
   ]
  },
  {
   "cell_type": "code",
   "execution_count": 151,
   "id": "17c87645",
   "metadata": {},
   "outputs": [
    {
     "data": {
      "text/plain": [
       "'\\n    \\n    # compare classification results with y_test\\n    individual_accuracy = accuracy_score(y_test, classification_result)\\n    accuracy = accuracy + individual_accuracy\\n    accuracies.append(individual_accuracy)\\n\\nprint(\"Average Accuracy = %\", (accuracy/ITERATIONS)*100)\\nprint(\"Max Accuracy = %\", max(accuracies)*100)\\n\\nplot_gaussian()\\n\\n'"
      ]
     },
     "execution_count": 151,
     "metadata": {},
     "output_type": "execute_result"
    }
   ],
   "source": [
    "    \n",
    " \n",
    "'''\n",
    "    \n",
    "    # compare classification results with y_test\n",
    "    individual_accuracy = accuracy_score(y_test, classification_result)\n",
    "    accuracy = accuracy + individual_accuracy\n",
    "    accuracies.append(individual_accuracy)\n",
    "\n",
    "print(\"Average Accuracy = %\", (accuracy/ITERATIONS)*100)\n",
    "print(\"Max Accuracy = %\", max(accuracies)*100)\n",
    "\n",
    "plot_gaussian()\n",
    "\n",
    "'''"
   ]
  },
  {
   "cell_type": "code",
   "execution_count": null,
   "id": "ab0a092f",
   "metadata": {},
   "outputs": [],
   "source": []
  },
  {
   "cell_type": "code",
   "execution_count": null,
   "id": "5661a4cd",
   "metadata": {},
   "outputs": [],
   "source": []
  },
  {
   "cell_type": "code",
   "execution_count": null,
   "id": "8c4d11ff",
   "metadata": {},
   "outputs": [],
   "source": []
  },
  {
   "cell_type": "code",
   "execution_count": null,
   "id": "8a7de563",
   "metadata": {},
   "outputs": [],
   "source": []
  },
  {
   "cell_type": "code",
   "execution_count": null,
   "id": "c0b6c04d",
   "metadata": {},
   "outputs": [],
   "source": []
  }
 ],
 "metadata": {
  "kernelspec": {
   "display_name": "Python 3.8.10 64-bit",
   "language": "python",
   "name": "python3810jvsc74a57bd0916dbcbb3f70747c44a77c7bcd40155683ae19c65e1c03b4aa3499c5328201f1"
  },
  "language_info": {
   "codemirror_mode": {
    "name": "ipython",
    "version": 3
   },
   "file_extension": ".py",
   "mimetype": "text/x-python",
   "name": "python",
   "nbconvert_exporter": "python",
   "pygments_lexer": "ipython3",
   "version": "3.8.10"
  }
 },
 "nbformat": 4,
 "nbformat_minor": 5
}
