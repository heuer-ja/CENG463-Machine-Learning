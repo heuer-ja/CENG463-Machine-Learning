{
 "cells": [
  {
   "cell_type": "code",
   "execution_count": 7,
   "id": "e2e66dcd-20c0-4ff6-a64a-791b8d4aa093",
   "metadata": {},
   "outputs": [],
   "source": [
    "def p_hat(x):\n",
    "    N = 8\n",
    "    h = 1\n",
    "    \n",
    "    sum = 0\n",
    "    for t in range(1, N+1):\n",
    "        sum = sum + w((x-x**t) / h)\n",
    "    \n",
    "    return (1/(N*h)) * sum\n",
    "\n",
    "def w(u):\n",
    "    return 1 if abs(u) < 0.5 else 0"
   ]
  },
  {
   "cell_type": "code",
   "execution_count": 8,
   "id": "f4dc22b5-0cbb-4f1c-b6a6-6a3c54e71dee",
   "metadata": {},
   "outputs": [
    {
     "name": "stdout",
     "output_type": "stream",
     "text": [
      "p(0.5)=1.0\n",
      "p(1)=1.0\n",
      "p(1.5)=0.125\n",
      "p(2.5)=0.125\n",
      "p(3)=0.125\n",
      "p(5)=0.125\n",
      "p(6.5)=0.125\n",
      "p(7)=0.125\n"
     ]
    }
   ],
   "source": [
    "xs = [0.5, 1, 1.5, 2.5, 3, 5, 6.5, 7]\n",
    "ys = []\n",
    "for i,x in enumerate(xs):\n",
    "    ys.append(p_hat(x))\n",
    "    print(f'p({x})={ys[i]}')"
   ]
  },
  {
   "cell_type": "code",
   "execution_count": null,
   "id": "532be0bf-3a07-4b5f-ac34-07ecc56d32e2",
   "metadata": {},
   "outputs": [],
   "source": []
  }
 ],
 "metadata": {
  "kernelspec": {
   "display_name": "Python 3 (ipykernel)",
   "language": "python",
   "name": "python3"
  },
  "language_info": {
   "codemirror_mode": {
    "name": "ipython",
    "version": 3
   },
   "file_extension": ".py",
   "mimetype": "text/x-python",
   "name": "python",
   "nbconvert_exporter": "python",
   "pygments_lexer": "ipython3",
   "version": "3.8.10"
  }
 },
 "nbformat": 4,
 "nbformat_minor": 5
}
